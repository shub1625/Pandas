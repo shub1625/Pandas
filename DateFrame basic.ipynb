{
 "cells": [
  {
   "cell_type": "code",
   "execution_count": 1,
   "id": "f1231d9b",
   "metadata": {},
   "outputs": [],
   "source": [
    "import pandas as pd"
   ]
  },
  {
   "cell_type": "code",
   "execution_count": 2,
   "id": "a60424aa",
   "metadata": {},
   "outputs": [
    {
     "data": {
      "text/plain": [
       "[23, 25, 24]"
      ]
     },
     "execution_count": 2,
     "metadata": {},
     "output_type": "execute_result"
    }
   ],
   "source": [
    "# another example is below \n",
    "person = {\n",
    "    'first':['ram','sham','shubham'],\n",
    "    'last':['patil','sharma','patne'],\n",
    "    'age':[23,25,24],\n",
    "    'email':['ram@gmail.com','sham@gmail.com','shubham@gmail.com']\n",
    "}\n",
    "# here columns are first , last and age and each index in list is a row\n",
    "# for key,value in person.items():\n",
    "#     print(key+': '+str(value))\n",
    "person['age']"
   ]
  },
  {
   "cell_type": "markdown",
   "id": "425071d7",
   "metadata": {},
   "source": [
    "# Make DF from dict"
   ]
  },
  {
   "cell_type": "code",
   "execution_count": 3,
   "id": "9c34a3a9",
   "metadata": {},
   "outputs": [
    {
     "data": {
      "text/html": [
       "<div>\n",
       "<style scoped>\n",
       "    .dataframe tbody tr th:only-of-type {\n",
       "        vertical-align: middle;\n",
       "    }\n",
       "\n",
       "    .dataframe tbody tr th {\n",
       "        vertical-align: top;\n",
       "    }\n",
       "\n",
       "    .dataframe thead th {\n",
       "        text-align: right;\n",
       "    }\n",
       "</style>\n",
       "<table border=\"1\" class=\"dataframe\">\n",
       "  <thead>\n",
       "    <tr style=\"text-align: right;\">\n",
       "      <th></th>\n",
       "      <th>first</th>\n",
       "      <th>last</th>\n",
       "      <th>age</th>\n",
       "      <th>email</th>\n",
       "    </tr>\n",
       "  </thead>\n",
       "  <tbody>\n",
       "    <tr>\n",
       "      <th>0</th>\n",
       "      <td>ram</td>\n",
       "      <td>patil</td>\n",
       "      <td>23</td>\n",
       "      <td>ram@gmail.com</td>\n",
       "    </tr>\n",
       "    <tr>\n",
       "      <th>1</th>\n",
       "      <td>sham</td>\n",
       "      <td>sharma</td>\n",
       "      <td>25</td>\n",
       "      <td>sham@gmail.com</td>\n",
       "    </tr>\n",
       "    <tr>\n",
       "      <th>2</th>\n",
       "      <td>shubham</td>\n",
       "      <td>patne</td>\n",
       "      <td>24</td>\n",
       "      <td>shubham@gmail.com</td>\n",
       "    </tr>\n",
       "  </tbody>\n",
       "</table>\n",
       "</div>"
      ],
      "text/plain": [
       "     first    last  age              email\n",
       "0      ram   patil   23      ram@gmail.com\n",
       "1     sham  sharma   25     sham@gmail.com\n",
       "2  shubham   patne   24  shubham@gmail.com"
      ]
     },
     "execution_count": 3,
     "metadata": {},
     "output_type": "execute_result"
    }
   ],
   "source": [
    "\n",
    "df = pd.DataFrame(person)\n",
    "df"
   ]
  },
  {
   "cell_type": "markdown",
   "id": "19fe8c71",
   "metadata": {},
   "source": [
    "# we can access any columns now just like dict , but keep in mind DF is high level dict with addtional features\n",
    "# like here each coloumn or key will be of type series not list"
   ]
  },
  {
   "cell_type": "code",
   "execution_count": 4,
   "id": "640f20a8",
   "metadata": {},
   "outputs": [
    {
     "data": {
      "text/plain": [
       "0        ram\n",
       "1       sham\n",
       "2    shubham\n",
       "Name: first, dtype: object"
      ]
     },
     "execution_count": 4,
     "metadata": {},
     "output_type": "execute_result"
    }
   ],
   "source": [
    "df['first']\n",
    "# df.first \n",
    "\n"
   ]
  },
  {
   "cell_type": "markdown",
   "id": "4505ed05",
   "metadata": {},
   "source": [
    "# this is of type series. Series in layman term is rows of data \n",
    "# So , dataframe is set or rows and coloumn and series is rows of single coloumn\n",
    "# Dataframe is container for multiple series objects"
   ]
  },
  {
   "cell_type": "code",
   "execution_count": 5,
   "id": "a5dc5135",
   "metadata": {},
   "outputs": [
    {
     "data": {
      "text/plain": [
       "pandas.core.series.Series"
      ]
     },
     "execution_count": 5,
     "metadata": {},
     "output_type": "execute_result"
    }
   ],
   "source": [
    "type(df['first']) \n"
   ]
  },
  {
   "cell_type": "markdown",
   "id": "a0158fd6",
   "metadata": {},
   "source": [
    "# Asscessing muliple columns , it will not return series but new filtered DF"
   ]
  },
  {
   "cell_type": "code",
   "execution_count": 6,
   "id": "31881740",
   "metadata": {},
   "outputs": [
    {
     "data": {
      "text/html": [
       "<div>\n",
       "<style scoped>\n",
       "    .dataframe tbody tr th:only-of-type {\n",
       "        vertical-align: middle;\n",
       "    }\n",
       "\n",
       "    .dataframe tbody tr th {\n",
       "        vertical-align: top;\n",
       "    }\n",
       "\n",
       "    .dataframe thead th {\n",
       "        text-align: right;\n",
       "    }\n",
       "</style>\n",
       "<table border=\"1\" class=\"dataframe\">\n",
       "  <thead>\n",
       "    <tr style=\"text-align: right;\">\n",
       "      <th></th>\n",
       "      <th>first</th>\n",
       "      <th>last</th>\n",
       "    </tr>\n",
       "  </thead>\n",
       "  <tbody>\n",
       "    <tr>\n",
       "      <th>0</th>\n",
       "      <td>ram</td>\n",
       "      <td>patil</td>\n",
       "    </tr>\n",
       "    <tr>\n",
       "      <th>1</th>\n",
       "      <td>sham</td>\n",
       "      <td>sharma</td>\n",
       "    </tr>\n",
       "    <tr>\n",
       "      <th>2</th>\n",
       "      <td>shubham</td>\n",
       "      <td>patne</td>\n",
       "    </tr>\n",
       "  </tbody>\n",
       "</table>\n",
       "</div>"
      ],
      "text/plain": [
       "     first    last\n",
       "0      ram   patil\n",
       "1     sham  sharma\n",
       "2  shubham   patne"
      ]
     },
     "execution_count": 6,
     "metadata": {},
     "output_type": "execute_result"
    }
   ],
   "source": [
    "df[['first','last']]"
   ]
  },
  {
   "cell_type": "code",
   "execution_count": 7,
   "id": "bf0506cd",
   "metadata": {},
   "outputs": [
    {
     "data": {
      "text/plain": [
       "Index(['first', 'last', 'age', 'email'], dtype='object')"
      ]
     },
     "execution_count": 7,
     "metadata": {},
     "output_type": "execute_result"
    }
   ],
   "source": [
    "df.columns"
   ]
  },
  {
   "cell_type": "markdown",
   "id": "6c9871ae",
   "metadata": {},
   "source": [
    "# Asscssing rows"
   ]
  },
  {
   "cell_type": "code",
   "execution_count": 8,
   "id": "0fa5ccc8",
   "metadata": {},
   "outputs": [
    {
     "data": {
      "text/html": [
       "<div>\n",
       "<style scoped>\n",
       "    .dataframe tbody tr th:only-of-type {\n",
       "        vertical-align: middle;\n",
       "    }\n",
       "\n",
       "    .dataframe tbody tr th {\n",
       "        vertical-align: top;\n",
       "    }\n",
       "\n",
       "    .dataframe thead th {\n",
       "        text-align: right;\n",
       "    }\n",
       "</style>\n",
       "<table border=\"1\" class=\"dataframe\">\n",
       "  <thead>\n",
       "    <tr style=\"text-align: right;\">\n",
       "      <th></th>\n",
       "      <th>first</th>\n",
       "      <th>last</th>\n",
       "      <th>age</th>\n",
       "      <th>email</th>\n",
       "    </tr>\n",
       "  </thead>\n",
       "  <tbody>\n",
       "    <tr>\n",
       "      <th>0</th>\n",
       "      <td>ram</td>\n",
       "      <td>patil</td>\n",
       "      <td>23</td>\n",
       "      <td>ram@gmail.com</td>\n",
       "    </tr>\n",
       "    <tr>\n",
       "      <th>1</th>\n",
       "      <td>sham</td>\n",
       "      <td>sharma</td>\n",
       "      <td>25</td>\n",
       "      <td>sham@gmail.com</td>\n",
       "    </tr>\n",
       "  </tbody>\n",
       "</table>\n",
       "</div>"
      ],
      "text/plain": [
       "  first    last  age           email\n",
       "0   ram   patil   23   ram@gmail.com\n",
       "1  sham  sharma   25  sham@gmail.com"
      ]
     },
     "execution_count": 8,
     "metadata": {},
     "output_type": "execute_result"
    }
   ],
   "source": [
    "# iloc - index location\n",
    "df.iloc[0] # gives first row\n",
    "\n",
    "# multpile rows\n",
    "df.iloc[[0,1]] # gives first and second row\n"
   ]
  },
  {
   "cell_type": "code",
   "execution_count": 9,
   "id": "230e4b34",
   "metadata": {},
   "outputs": [
    {
     "data": {
      "text/html": [
       "<div>\n",
       "<style scoped>\n",
       "    .dataframe tbody tr th:only-of-type {\n",
       "        vertical-align: middle;\n",
       "    }\n",
       "\n",
       "    .dataframe tbody tr th {\n",
       "        vertical-align: top;\n",
       "    }\n",
       "\n",
       "    .dataframe thead th {\n",
       "        text-align: right;\n",
       "    }\n",
       "</style>\n",
       "<table border=\"1\" class=\"dataframe\">\n",
       "  <thead>\n",
       "    <tr style=\"text-align: right;\">\n",
       "      <th></th>\n",
       "      <th>age</th>\n",
       "    </tr>\n",
       "  </thead>\n",
       "  <tbody>\n",
       "    <tr>\n",
       "      <th>0</th>\n",
       "      <td>23</td>\n",
       "    </tr>\n",
       "    <tr>\n",
       "      <th>2</th>\n",
       "      <td>24</td>\n",
       "    </tr>\n",
       "  </tbody>\n",
       "</table>\n",
       "</div>"
      ],
      "text/plain": [
       "   age\n",
       "0   23\n",
       "2   24"
      ]
     },
     "execution_count": 9,
     "metadata": {},
     "output_type": "execute_result"
    }
   ],
   "source": [
    "# filterting out rows with particular columns\n",
    "# first param will list of list of index and second param will be list of list of index column we want to display\n",
    "df.iloc[[0,2],[2]]"
   ]
  },
  {
   "cell_type": "code",
   "execution_count": 10,
   "id": "5a6a530a",
   "metadata": {},
   "outputs": [
    {
     "data": {
      "text/html": [
       "<div>\n",
       "<style scoped>\n",
       "    .dataframe tbody tr th:only-of-type {\n",
       "        vertical-align: middle;\n",
       "    }\n",
       "\n",
       "    .dataframe tbody tr th {\n",
       "        vertical-align: top;\n",
       "    }\n",
       "\n",
       "    .dataframe thead th {\n",
       "        text-align: right;\n",
       "    }\n",
       "</style>\n",
       "<table border=\"1\" class=\"dataframe\">\n",
       "  <thead>\n",
       "    <tr style=\"text-align: right;\">\n",
       "      <th></th>\n",
       "      <th>first</th>\n",
       "      <th>age</th>\n",
       "    </tr>\n",
       "  </thead>\n",
       "  <tbody>\n",
       "    <tr>\n",
       "      <th>0</th>\n",
       "      <td>ram</td>\n",
       "      <td>23</td>\n",
       "    </tr>\n",
       "    <tr>\n",
       "      <th>1</th>\n",
       "      <td>sham</td>\n",
       "      <td>25</td>\n",
       "    </tr>\n",
       "  </tbody>\n",
       "</table>\n",
       "</div>"
      ],
      "text/plain": [
       "  first  age\n",
       "0   ram   23\n",
       "1  sham   25"
      ]
     },
     "execution_count": 10,
     "metadata": {},
     "output_type": "execute_result"
    }
   ],
   "source": [
    "# loc will perform on lable\n",
    "df.loc[[0,1],['first','age']]"
   ]
  },
  {
   "cell_type": "markdown",
   "id": "ddf4d34c",
   "metadata": {},
   "source": [
    "# Set , reset and use indexes"
   ]
  },
  {
   "cell_type": "code",
   "execution_count": 11,
   "id": "84570f49",
   "metadata": {},
   "outputs": [
    {
     "data": {
      "text/html": [
       "<div>\n",
       "<style scoped>\n",
       "    .dataframe tbody tr th:only-of-type {\n",
       "        vertical-align: middle;\n",
       "    }\n",
       "\n",
       "    .dataframe tbody tr th {\n",
       "        vertical-align: top;\n",
       "    }\n",
       "\n",
       "    .dataframe thead th {\n",
       "        text-align: right;\n",
       "    }\n",
       "</style>\n",
       "<table border=\"1\" class=\"dataframe\">\n",
       "  <thead>\n",
       "    <tr style=\"text-align: right;\">\n",
       "      <th></th>\n",
       "      <th>first</th>\n",
       "      <th>last</th>\n",
       "      <th>age</th>\n",
       "      <th>email</th>\n",
       "    </tr>\n",
       "  </thead>\n",
       "  <tbody>\n",
       "    <tr>\n",
       "      <th>0</th>\n",
       "      <td>ram</td>\n",
       "      <td>patil</td>\n",
       "      <td>23</td>\n",
       "      <td>ram@gmail.com</td>\n",
       "    </tr>\n",
       "    <tr>\n",
       "      <th>1</th>\n",
       "      <td>sham</td>\n",
       "      <td>sharma</td>\n",
       "      <td>25</td>\n",
       "      <td>sham@gmail.com</td>\n",
       "    </tr>\n",
       "    <tr>\n",
       "      <th>2</th>\n",
       "      <td>shubham</td>\n",
       "      <td>patne</td>\n",
       "      <td>24</td>\n",
       "      <td>shubham@gmail.com</td>\n",
       "    </tr>\n",
       "  </tbody>\n",
       "</table>\n",
       "</div>"
      ],
      "text/plain": [
       "     first    last  age              email\n",
       "0      ram   patil   23      ram@gmail.com\n",
       "1     sham  sharma   25     sham@gmail.com\n",
       "2  shubham   patne   24  shubham@gmail.com"
      ]
     },
     "execution_count": 11,
     "metadata": {},
     "output_type": "execute_result"
    }
   ],
   "source": [
    "df"
   ]
  },
  {
   "cell_type": "code",
   "execution_count": 12,
   "id": "f383b789",
   "metadata": {},
   "outputs": [],
   "source": [
    "# index is unique indientifier and that we can use as lable which will be easy to locate specfic rows instead \n",
    "# of simply putting rows\n",
    "df.set_index('email',inplace=True)\n"
   ]
  },
  {
   "cell_type": "code",
   "execution_count": 13,
   "id": "623c594c",
   "metadata": {},
   "outputs": [
    {
     "data": {
      "text/plain": [
       "'ram'"
      ]
     },
     "execution_count": 13,
     "metadata": {},
     "output_type": "execute_result"
    }
   ],
   "source": [
    "df.loc['ram@gmail.com','first']\n"
   ]
  },
  {
   "cell_type": "code",
   "execution_count": 14,
   "id": "58b31984",
   "metadata": {},
   "outputs": [],
   "source": [
    "df.reset_index(inplace=True)"
   ]
  },
  {
   "cell_type": "markdown",
   "id": "53b1c9c9",
   "metadata": {},
   "source": [
    "# Filtering Data using conditions on rows and columns"
   ]
  },
  {
   "cell_type": "code",
   "execution_count": 15,
   "id": "47338b56",
   "metadata": {},
   "outputs": [
    {
     "data": {
      "text/plain": [
       "0    False\n",
       "1     True\n",
       "2     True\n",
       "dtype: bool"
      ]
     },
     "execution_count": 15,
     "metadata": {},
     "output_type": "execute_result"
    }
   ],
   "source": [
    "filt_1 = (df['last'] == 'patne')\n",
    "filt_2 = (df['age'] >=24)\n",
    "filt_3 = filt_1 & filt_2\n",
    "filt_4 = filt_1 | filt_2\n",
    "\n",
    "# these will give series of bollean values\n",
    "filt_4"
   ]
  },
  {
   "cell_type": "code",
   "execution_count": 16,
   "id": "51e63e2d",
   "metadata": {},
   "outputs": [
    {
     "data": {
      "text/html": [
       "<div>\n",
       "<style scoped>\n",
       "    .dataframe tbody tr th:only-of-type {\n",
       "        vertical-align: middle;\n",
       "    }\n",
       "\n",
       "    .dataframe tbody tr th {\n",
       "        vertical-align: top;\n",
       "    }\n",
       "\n",
       "    .dataframe thead th {\n",
       "        text-align: right;\n",
       "    }\n",
       "</style>\n",
       "<table border=\"1\" class=\"dataframe\">\n",
       "  <thead>\n",
       "    <tr style=\"text-align: right;\">\n",
       "      <th></th>\n",
       "      <th>email</th>\n",
       "      <th>first</th>\n",
       "      <th>last</th>\n",
       "      <th>age</th>\n",
       "    </tr>\n",
       "  </thead>\n",
       "  <tbody>\n",
       "    <tr>\n",
       "      <th>1</th>\n",
       "      <td>sham@gmail.com</td>\n",
       "      <td>sham</td>\n",
       "      <td>sharma</td>\n",
       "      <td>25</td>\n",
       "    </tr>\n",
       "    <tr>\n",
       "      <th>2</th>\n",
       "      <td>shubham@gmail.com</td>\n",
       "      <td>shubham</td>\n",
       "      <td>patne</td>\n",
       "      <td>24</td>\n",
       "    </tr>\n",
       "  </tbody>\n",
       "</table>\n",
       "</div>"
      ],
      "text/plain": [
       "               email    first    last  age\n",
       "1     sham@gmail.com     sham  sharma   25\n",
       "2  shubham@gmail.com  shubham   patne   24"
      ]
     },
     "execution_count": 16,
     "metadata": {},
     "output_type": "execute_result"
    }
   ],
   "source": [
    "df[filt_4]"
   ]
  },
  {
   "cell_type": "code",
   "execution_count": 17,
   "id": "8a27e21b",
   "metadata": {},
   "outputs": [
    {
     "data": {
      "text/html": [
       "<div>\n",
       "<style scoped>\n",
       "    .dataframe tbody tr th:only-of-type {\n",
       "        vertical-align: middle;\n",
       "    }\n",
       "\n",
       "    .dataframe tbody tr th {\n",
       "        vertical-align: top;\n",
       "    }\n",
       "\n",
       "    .dataframe thead th {\n",
       "        text-align: right;\n",
       "    }\n",
       "</style>\n",
       "<table border=\"1\" class=\"dataframe\">\n",
       "  <thead>\n",
       "    <tr style=\"text-align: right;\">\n",
       "      <th></th>\n",
       "      <th>first</th>\n",
       "      <th>last</th>\n",
       "    </tr>\n",
       "  </thead>\n",
       "  <tbody>\n",
       "    <tr>\n",
       "      <th>1</th>\n",
       "      <td>sham</td>\n",
       "      <td>sharma</td>\n",
       "    </tr>\n",
       "    <tr>\n",
       "      <th>2</th>\n",
       "      <td>shubham</td>\n",
       "      <td>patne</td>\n",
       "    </tr>\n",
       "  </tbody>\n",
       "</table>\n",
       "</div>"
      ],
      "text/plain": [
       "     first    last\n",
       "1     sham  sharma\n",
       "2  shubham   patne"
      ]
     },
     "execution_count": 17,
     "metadata": {},
     "output_type": "execute_result"
    }
   ],
   "source": [
    "# This is more prefered as we can pass filter and also fetch a particular column\n",
    "# like person first and last name whose age as greater than or equal to 24\n",
    "df.loc[filt_2,['first','last']]"
   ]
  },
  {
   "cell_type": "code",
   "execution_count": 18,
   "id": "4911bcae",
   "metadata": {},
   "outputs": [
    {
     "data": {
      "text/html": [
       "<div>\n",
       "<style scoped>\n",
       "    .dataframe tbody tr th:only-of-type {\n",
       "        vertical-align: middle;\n",
       "    }\n",
       "\n",
       "    .dataframe tbody tr th {\n",
       "        vertical-align: top;\n",
       "    }\n",
       "\n",
       "    .dataframe thead th {\n",
       "        text-align: right;\n",
       "    }\n",
       "</style>\n",
       "<table border=\"1\" class=\"dataframe\">\n",
       "  <thead>\n",
       "    <tr style=\"text-align: right;\">\n",
       "      <th></th>\n",
       "      <th>first</th>\n",
       "      <th>last</th>\n",
       "    </tr>\n",
       "  </thead>\n",
       "  <tbody>\n",
       "    <tr>\n",
       "      <th>0</th>\n",
       "      <td>ram</td>\n",
       "      <td>patil</td>\n",
       "    </tr>\n",
       "  </tbody>\n",
       "</table>\n",
       "</div>"
      ],
      "text/plain": [
       "  first   last\n",
       "0   ram  patil"
      ]
     },
     "execution_count": 18,
     "metadata": {},
     "output_type": "execute_result"
    }
   ],
   "source": [
    "# ~ will perform not equal opreation \n",
    "df.loc[~filt_2,['first','last']]"
   ]
  },
  {
   "cell_type": "markdown",
   "id": "6fd9f82a",
   "metadata": {},
   "source": [
    "# Alter Rows and Columns"
   ]
  },
  {
   "cell_type": "code",
   "execution_count": 19,
   "id": "d653fcdb",
   "metadata": {},
   "outputs": [],
   "source": [
    "df.columns\n",
    "# Change each columns to upper or lower or change names\n",
    "df.columns = ['email','first_name','last_name','age']\n"
   ]
  },
  {
   "cell_type": "code",
   "execution_count": 20,
   "id": "1fe647ef",
   "metadata": {},
   "outputs": [],
   "source": [
    "df.columns = [x.lower() for x in df.columns]"
   ]
  },
  {
   "cell_type": "code",
   "execution_count": 21,
   "id": "e1b35e1d",
   "metadata": {},
   "outputs": [
    {
     "data": {
      "text/html": [
       "<div>\n",
       "<style scoped>\n",
       "    .dataframe tbody tr th:only-of-type {\n",
       "        vertical-align: middle;\n",
       "    }\n",
       "\n",
       "    .dataframe tbody tr th {\n",
       "        vertical-align: top;\n",
       "    }\n",
       "\n",
       "    .dataframe thead th {\n",
       "        text-align: right;\n",
       "    }\n",
       "</style>\n",
       "<table border=\"1\" class=\"dataframe\">\n",
       "  <thead>\n",
       "    <tr style=\"text-align: right;\">\n",
       "      <th></th>\n",
       "      <th>email</th>\n",
       "      <th>first_name</th>\n",
       "      <th>last_name</th>\n",
       "      <th>age</th>\n",
       "    </tr>\n",
       "  </thead>\n",
       "  <tbody>\n",
       "    <tr>\n",
       "      <th>0</th>\n",
       "      <td>ram@gmail.com</td>\n",
       "      <td>ram</td>\n",
       "      <td>patil</td>\n",
       "      <td>23</td>\n",
       "    </tr>\n",
       "    <tr>\n",
       "      <th>1</th>\n",
       "      <td>sham@gmail.com</td>\n",
       "      <td>sham</td>\n",
       "      <td>sharma</td>\n",
       "      <td>25</td>\n",
       "    </tr>\n",
       "    <tr>\n",
       "      <th>2</th>\n",
       "      <td>shubham@gmail.com</td>\n",
       "      <td>shubham</td>\n",
       "      <td>patne</td>\n",
       "      <td>24</td>\n",
       "    </tr>\n",
       "  </tbody>\n",
       "</table>\n",
       "</div>"
      ],
      "text/plain": [
       "               email first_name last_name  age\n",
       "0      ram@gmail.com        ram     patil   23\n",
       "1     sham@gmail.com       sham    sharma   25\n",
       "2  shubham@gmail.com    shubham     patne   24"
      ]
     },
     "execution_count": 21,
     "metadata": {},
     "output_type": "execute_result"
    }
   ],
   "source": [
    "df.columns = df.columns.str.replace(' ','_')\n",
    "df"
   ]
  },
  {
   "cell_type": "code",
   "execution_count": 22,
   "id": "7bfca087",
   "metadata": {},
   "outputs": [],
   "source": [
    "# Changing particular columns\n",
    "df.rename(columns={'first_name':'first','last_name':'last'},inplace=True)"
   ]
  },
  {
   "cell_type": "code",
   "execution_count": 23,
   "id": "cb381516",
   "metadata": {},
   "outputs": [],
   "source": [
    "# Chaning particular rows \n",
    "# to change all the values\n",
    "df.loc[2] = ['shubham.patne@gmail.com','shubham','patil',26]"
   ]
  },
  {
   "cell_type": "code",
   "execution_count": 24,
   "id": "6c4167a6",
   "metadata": {},
   "outputs": [
    {
     "data": {
      "text/plain": [
       "email    shubham.patne@gmail.com\n",
       "first                    shubham\n",
       "last                       patne\n",
       "age                           24\n",
       "Name: 2, dtype: object"
      ]
     },
     "execution_count": 24,
     "metadata": {},
     "output_type": "execute_result"
    }
   ],
   "source": [
    "# Changing only requried rows\n",
    "df.loc[2, ['last','age']] = ['patne',24]\n",
    "df.loc[2]"
   ]
  },
  {
   "cell_type": "code",
   "execution_count": 25,
   "id": "eb3d6a6d",
   "metadata": {},
   "outputs": [],
   "source": [
    "df.loc[1 , 'age'] = 23\n",
    "# Use .loc only to assinge the row values"
   ]
  },
  {
   "cell_type": "code",
   "execution_count": 26,
   "id": "4f9f4826",
   "metadata": {},
   "outputs": [],
   "source": [
    "# Chananig all the values of particular column\n",
    "df['email'] = df['email'].str.lower()"
   ]
  },
  {
   "cell_type": "markdown",
   "id": "c181b084",
   "metadata": {},
   "source": [
    "# 4 methods to change rows"
   ]
  },
  {
   "cell_type": "code",
   "execution_count": 27,
   "id": "9ba95a3d",
   "metadata": {},
   "outputs": [
    {
     "data": {
      "text/plain": [
       "0    13\n",
       "1    14\n",
       "2    23\n",
       "Name: email, dtype: int64"
      ]
     },
     "execution_count": 27,
     "metadata": {},
     "output_type": "execute_result"
    }
   ],
   "source": [
    "# apply , map , applymap , replace\n",
    "\n",
    "# apply is used for calling a function on values either DF or series objects. It works little different for DF and series.\n",
    "\n",
    "# For example lets say we want length of each email so we will apply on email series object\n",
    "\n",
    "df['email'].apply(len)"
   ]
  },
  {
   "cell_type": "code",
   "execution_count": 28,
   "id": "428c7633",
   "metadata": {},
   "outputs": [],
   "source": [
    "# we can also use this to update values , lets say we have replace 'gmail' with 'email' as address . Just for example\n",
    "\n",
    "def change_email(email):\n",
    "    return email.replace('gmail','email')\n",
    "\n",
    "df['email'].apply(change_email) # This will not change until we assgine it\n",
    "\n",
    "df['email'] = df['email'].apply(change_email)"
   ]
  },
  {
   "cell_type": "code",
   "execution_count": 29,
   "id": "445a2baf",
   "metadata": {},
   "outputs": [
    {
     "data": {
      "text/plain": [
       "email    3\n",
       "first    3\n",
       "last     3\n",
       "age      3\n",
       "dtype: int64"
      ]
     },
     "execution_count": 29,
     "metadata": {},
     "output_type": "execute_result"
    }
   ],
   "source": [
    "# Running apply to DF will apply on each series objects , where as running apply to series will apply on each values\n",
    "# Just note if we do apply on DF inputs will be series \n",
    "\n",
    "df.apply(pd.Series.min) # This gives min values for each columns going row wise\n",
    "df.apply(len)"
   ]
  },
  {
   "cell_type": "code",
   "execution_count": 30,
   "id": "ff7cabf2",
   "metadata": {},
   "outputs": [],
   "source": [
    "# df.apply(pd.Series.min ,axis='columns') \n",
    "# this will give error as for our data it will not be able to compare string and int of column"
   ]
  },
  {
   "cell_type": "code",
   "execution_count": 31,
   "id": "7cae80fa",
   "metadata": {},
   "outputs": [
    {
     "data": {
      "text/html": [
       "<div>\n",
       "<style scoped>\n",
       "    .dataframe tbody tr th:only-of-type {\n",
       "        vertical-align: middle;\n",
       "    }\n",
       "\n",
       "    .dataframe tbody tr th {\n",
       "        vertical-align: top;\n",
       "    }\n",
       "\n",
       "    .dataframe thead th {\n",
       "        text-align: right;\n",
       "    }\n",
       "</style>\n",
       "<table border=\"1\" class=\"dataframe\">\n",
       "  <thead>\n",
       "    <tr style=\"text-align: right;\">\n",
       "      <th></th>\n",
       "      <th>email</th>\n",
       "      <th>first</th>\n",
       "      <th>last</th>\n",
       "      <th>age</th>\n",
       "    </tr>\n",
       "  </thead>\n",
       "  <tbody>\n",
       "    <tr>\n",
       "      <th>0</th>\n",
       "      <td>13</td>\n",
       "      <td>3</td>\n",
       "      <td>5</td>\n",
       "      <td>2</td>\n",
       "    </tr>\n",
       "    <tr>\n",
       "      <th>1</th>\n",
       "      <td>14</td>\n",
       "      <td>4</td>\n",
       "      <td>6</td>\n",
       "      <td>2</td>\n",
       "    </tr>\n",
       "    <tr>\n",
       "      <th>2</th>\n",
       "      <td>23</td>\n",
       "      <td>7</td>\n",
       "      <td>5</td>\n",
       "      <td>2</td>\n",
       "    </tr>\n",
       "  </tbody>\n",
       "</table>\n",
       "</div>"
      ],
      "text/plain": [
       "   email  first  last  age\n",
       "0     13      3     5    2\n",
       "1     14      4     6    2\n",
       "2     23      7     5    2"
      ]
     },
     "execution_count": 31,
     "metadata": {},
     "output_type": "execute_result"
    }
   ],
   "source": [
    "# applymap will map the function to each indivual value of DF\n",
    "df.applymap(lambda x: len(str(x)))"
   ]
  },
  {
   "cell_type": "code",
   "execution_count": 32,
   "id": "bc7f036d",
   "metadata": {},
   "outputs": [],
   "source": [
    "# map & replace will work only on series\n",
    "df['age'] = df['age'].replace({23:24,24:25})\n"
   ]
  },
  {
   "cell_type": "code",
   "execution_count": 33,
   "id": "3d50c7de",
   "metadata": {},
   "outputs": [
    {
     "data": {
      "text/plain": [
       "0    harry\n",
       "1     john\n",
       "2      NaN\n",
       "Name: first, dtype: object"
      ]
     },
     "execution_count": 33,
     "metadata": {},
     "output_type": "execute_result"
    }
   ],
   "source": [
    "# map we will give values for that column to change as dict if value not given it will update null \n",
    "df['first'].map({'ram':'harry','sham':'john'})"
   ]
  },
  {
   "cell_type": "code",
   "execution_count": 34,
   "id": "99297d3d",
   "metadata": {},
   "outputs": [],
   "source": [
    "df['age'].apply(lambda x : x+1)\n",
    "df.loc[2,'age'] = 23\n",
    "df.loc[1,'age'] = 24"
   ]
  },
  {
   "cell_type": "markdown",
   "id": "0e075865",
   "metadata": {},
   "source": [
    "# Add/Remove Rows and Columns From DataFrames\n"
   ]
  },
  {
   "cell_type": "code",
   "execution_count": 36,
   "id": "00e1ce2c",
   "metadata": {},
   "outputs": [],
   "source": [
    "# Adding new column named full_name\n",
    "df['full_name'] = df['first'] + ' ' + df['last']"
   ]
  },
  {
   "cell_type": "code",
   "execution_count": 40,
   "id": "4fe34ba7",
   "metadata": {},
   "outputs": [],
   "source": [
    "df['age_percent'] = df['age'].map(lambda x : x/100)"
   ]
  },
  {
   "cell_type": "code",
   "execution_count": 42,
   "id": "0008d3ef",
   "metadata": {},
   "outputs": [],
   "source": [
    "# Add two temp columns just to check how we can delete or drop particular column\n",
    "df['temp1'] = df['age'] + 10\n",
    "df['temp2'] = df['age'] + 20"
   ]
  },
  {
   "cell_type": "code",
   "execution_count": 45,
   "id": "65a7aac7",
   "metadata": {},
   "outputs": [],
   "source": [
    "# We have to drop method on DF to specify which columns to drop\n",
    "df.drop(columns=['temp1','temp2'] , inplace=True)"
   ]
  },
  {
   "cell_type": "code",
   "execution_count": 49,
   "id": "259e8cd4",
   "metadata": {},
   "outputs": [],
   "source": [
    "# If we want to seperate existing column to multiple columns we can split and assign \n",
    "# We have to use expand = True to expand the list values\n",
    "\n",
    "df.drop(columns=['first','last'],inplace=True)"
   ]
  },
  {
   "cell_type": "code",
   "execution_count": 53,
   "id": "b5849fd6",
   "metadata": {},
   "outputs": [
    {
     "data": {
      "text/html": [
       "<div>\n",
       "<style scoped>\n",
       "    .dataframe tbody tr th:only-of-type {\n",
       "        vertical-align: middle;\n",
       "    }\n",
       "\n",
       "    .dataframe tbody tr th {\n",
       "        vertical-align: top;\n",
       "    }\n",
       "\n",
       "    .dataframe thead th {\n",
       "        text-align: right;\n",
       "    }\n",
       "</style>\n",
       "<table border=\"1\" class=\"dataframe\">\n",
       "  <thead>\n",
       "    <tr style=\"text-align: right;\">\n",
       "      <th></th>\n",
       "      <th>0</th>\n",
       "      <th>1</th>\n",
       "    </tr>\n",
       "  </thead>\n",
       "  <tbody>\n",
       "    <tr>\n",
       "      <th>0</th>\n",
       "      <td>ram</td>\n",
       "      <td>patil</td>\n",
       "    </tr>\n",
       "    <tr>\n",
       "      <th>1</th>\n",
       "      <td>sham</td>\n",
       "      <td>sharma</td>\n",
       "    </tr>\n",
       "    <tr>\n",
       "      <th>2</th>\n",
       "      <td>shubham</td>\n",
       "      <td>patne</td>\n",
       "    </tr>\n",
       "  </tbody>\n",
       "</table>\n",
       "</div>"
      ],
      "text/plain": [
       "         0       1\n",
       "0      ram   patil\n",
       "1     sham  sharma\n",
       "2  shubham   patne"
      ]
     },
     "execution_count": 53,
     "metadata": {},
     "output_type": "execute_result"
    }
   ],
   "source": [
    "df['full_name'].str.split(' ',expand=True)"
   ]
  },
  {
   "cell_type": "code",
   "execution_count": 54,
   "id": "11f60343",
   "metadata": {},
   "outputs": [],
   "source": [
    "df[['first','last']] = df['full_name'].str.split(' ',expand=True)"
   ]
  },
  {
   "cell_type": "code",
   "execution_count": 55,
   "id": "de3833ed",
   "metadata": {},
   "outputs": [
    {
     "data": {
      "text/html": [
       "<div>\n",
       "<style scoped>\n",
       "    .dataframe tbody tr th:only-of-type {\n",
       "        vertical-align: middle;\n",
       "    }\n",
       "\n",
       "    .dataframe tbody tr th {\n",
       "        vertical-align: top;\n",
       "    }\n",
       "\n",
       "    .dataframe thead th {\n",
       "        text-align: right;\n",
       "    }\n",
       "</style>\n",
       "<table border=\"1\" class=\"dataframe\">\n",
       "  <thead>\n",
       "    <tr style=\"text-align: right;\">\n",
       "      <th></th>\n",
       "      <th>email</th>\n",
       "      <th>age</th>\n",
       "      <th>full_name</th>\n",
       "      <th>age_percent</th>\n",
       "      <th>first</th>\n",
       "      <th>last</th>\n",
       "    </tr>\n",
       "  </thead>\n",
       "  <tbody>\n",
       "    <tr>\n",
       "      <th>0</th>\n",
       "      <td>ram@email.com</td>\n",
       "      <td>24</td>\n",
       "      <td>ram patil</td>\n",
       "      <td>0.24</td>\n",
       "      <td>ram</td>\n",
       "      <td>patil</td>\n",
       "    </tr>\n",
       "    <tr>\n",
       "      <th>1</th>\n",
       "      <td>sham@email.com</td>\n",
       "      <td>24</td>\n",
       "      <td>sham sharma</td>\n",
       "      <td>0.24</td>\n",
       "      <td>sham</td>\n",
       "      <td>sharma</td>\n",
       "    </tr>\n",
       "    <tr>\n",
       "      <th>2</th>\n",
       "      <td>shubham.patne@email.com</td>\n",
       "      <td>23</td>\n",
       "      <td>shubham patne</td>\n",
       "      <td>0.23</td>\n",
       "      <td>shubham</td>\n",
       "      <td>patne</td>\n",
       "    </tr>\n",
       "  </tbody>\n",
       "</table>\n",
       "</div>"
      ],
      "text/plain": [
       "                     email  age      full_name  age_percent    first    last\n",
       "0            ram@email.com   24      ram patil         0.24      ram   patil\n",
       "1           sham@email.com   24    sham sharma         0.24     sham  sharma\n",
       "2  shubham.patne@email.com   23  shubham patne         0.23  shubham   patne"
      ]
     },
     "execution_count": 55,
     "metadata": {},
     "output_type": "execute_result"
    }
   ],
   "source": [
    "df"
   ]
  },
  {
   "cell_type": "code",
   "execution_count": 59,
   "id": "ae641fd6",
   "metadata": {},
   "outputs": [],
   "source": [
    "# Adding single row in the DF\n",
    "df = df.append({'first':'Tony','last':'Deo'},ignore_index=True)"
   ]
  },
  {
   "cell_type": "code",
   "execution_count": 68,
   "id": "a5e6940d",
   "metadata": {},
   "outputs": [],
   "source": [
    "# Add remainng values\n",
    "df.loc[3,['email','age','full_name']] = ['Tony.Deo@email.com',26, 'Tony Deo']"
   ]
  },
  {
   "cell_type": "code",
   "execution_count": 76,
   "id": "e1c591ad",
   "metadata": {},
   "outputs": [],
   "source": [
    "# Appending a DF to exsting DF\n",
    "person_2 = {\n",
    "    'first':['Stev','Wanda'],\n",
    "    'last':['Rogers','vison'],\n",
    "    'age':[27,22],\n",
    "    'email':['stev@avaenge.com','wanda@avarnge.com']\n",
    "}\n",
    "\n",
    "df2 = pd.DataFrame(person_2)"
   ]
  },
  {
   "cell_type": "code",
   "execution_count": 78,
   "id": "57ff2316",
   "metadata": {},
   "outputs": [],
   "source": [
    "# Append this DF \n",
    "df = df.append(df2,ignore_index=True)"
   ]
  },
  {
   "cell_type": "code",
   "execution_count": 82,
   "id": "8ecc5e92",
   "metadata": {},
   "outputs": [],
   "source": [
    "df['first'] = df['first'].map(lambda x : x.lower())"
   ]
  },
  {
   "cell_type": "code",
   "execution_count": 85,
   "id": "937c1913",
   "metadata": {},
   "outputs": [
    {
     "data": {
      "text/html": [
       "<div>\n",
       "<style scoped>\n",
       "    .dataframe tbody tr th:only-of-type {\n",
       "        vertical-align: middle;\n",
       "    }\n",
       "\n",
       "    .dataframe tbody tr th {\n",
       "        vertical-align: top;\n",
       "    }\n",
       "\n",
       "    .dataframe thead th {\n",
       "        text-align: right;\n",
       "    }\n",
       "</style>\n",
       "<table border=\"1\" class=\"dataframe\">\n",
       "  <thead>\n",
       "    <tr style=\"text-align: right;\">\n",
       "      <th></th>\n",
       "      <th>email</th>\n",
       "      <th>age</th>\n",
       "      <th>full_name</th>\n",
       "      <th>age_percent</th>\n",
       "      <th>first</th>\n",
       "      <th>last</th>\n",
       "    </tr>\n",
       "  </thead>\n",
       "  <tbody>\n",
       "    <tr>\n",
       "      <th>0</th>\n",
       "      <td>ram@email.com</td>\n",
       "      <td>24.0</td>\n",
       "      <td>ram patil</td>\n",
       "      <td>0.24</td>\n",
       "      <td>ram</td>\n",
       "      <td>patil</td>\n",
       "    </tr>\n",
       "    <tr>\n",
       "      <th>1</th>\n",
       "      <td>sham@email.com</td>\n",
       "      <td>24.0</td>\n",
       "      <td>sham sharma</td>\n",
       "      <td>0.24</td>\n",
       "      <td>sham</td>\n",
       "      <td>sharma</td>\n",
       "    </tr>\n",
       "    <tr>\n",
       "      <th>2</th>\n",
       "      <td>shubham.patne@email.com</td>\n",
       "      <td>23.0</td>\n",
       "      <td>shubham patne</td>\n",
       "      <td>0.23</td>\n",
       "      <td>shubham</td>\n",
       "      <td>patne</td>\n",
       "    </tr>\n",
       "    <tr>\n",
       "      <th>3</th>\n",
       "      <td>Tony.Deo@email.com</td>\n",
       "      <td>26.0</td>\n",
       "      <td>Tony Deo</td>\n",
       "      <td>NaN</td>\n",
       "      <td>tony</td>\n",
       "      <td>Deo</td>\n",
       "    </tr>\n",
       "    <tr>\n",
       "      <th>4</th>\n",
       "      <td>stev@avaenge.com</td>\n",
       "      <td>27.0</td>\n",
       "      <td>NaN</td>\n",
       "      <td>NaN</td>\n",
       "      <td>stev</td>\n",
       "      <td>Rogers</td>\n",
       "    </tr>\n",
       "    <tr>\n",
       "      <th>5</th>\n",
       "      <td>wanda@avarnge.com</td>\n",
       "      <td>22.0</td>\n",
       "      <td>NaN</td>\n",
       "      <td>NaN</td>\n",
       "      <td>wanda</td>\n",
       "      <td>vison</td>\n",
       "    </tr>\n",
       "  </tbody>\n",
       "</table>\n",
       "</div>"
      ],
      "text/plain": [
       "                     email   age      full_name  age_percent    first    last\n",
       "0            ram@email.com  24.0      ram patil         0.24      ram   patil\n",
       "1           sham@email.com  24.0    sham sharma         0.24     sham  sharma\n",
       "2  shubham.patne@email.com  23.0  shubham patne         0.23  shubham   patne\n",
       "3       Tony.Deo@email.com  26.0       Tony Deo          NaN     tony     Deo\n",
       "4         stev@avaenge.com  27.0            NaN          NaN     stev  Rogers\n",
       "5        wanda@avarnge.com  22.0            NaN          NaN    wanda   vison"
      ]
     },
     "execution_count": 85,
     "metadata": {},
     "output_type": "execute_result"
    }
   ],
   "source": [
    "df"
   ]
  },
  {
   "cell_type": "code",
   "execution_count": 86,
   "id": "a5984519",
   "metadata": {},
   "outputs": [
    {
     "data": {
      "text/html": [
       "<div>\n",
       "<style scoped>\n",
       "    .dataframe tbody tr th:only-of-type {\n",
       "        vertical-align: middle;\n",
       "    }\n",
       "\n",
       "    .dataframe tbody tr th {\n",
       "        vertical-align: top;\n",
       "    }\n",
       "\n",
       "    .dataframe thead th {\n",
       "        text-align: right;\n",
       "    }\n",
       "</style>\n",
       "<table border=\"1\" class=\"dataframe\">\n",
       "  <thead>\n",
       "    <tr style=\"text-align: right;\">\n",
       "      <th></th>\n",
       "      <th>email</th>\n",
       "      <th>age</th>\n",
       "      <th>full_name</th>\n",
       "      <th>age_percent</th>\n",
       "      <th>first</th>\n",
       "      <th>last</th>\n",
       "    </tr>\n",
       "  </thead>\n",
       "  <tbody>\n",
       "    <tr>\n",
       "      <th>0</th>\n",
       "      <td>ram@email.com</td>\n",
       "      <td>24.0</td>\n",
       "      <td>ram patil</td>\n",
       "      <td>0.24</td>\n",
       "      <td>ram</td>\n",
       "      <td>patil</td>\n",
       "    </tr>\n",
       "    <tr>\n",
       "      <th>1</th>\n",
       "      <td>sham@email.com</td>\n",
       "      <td>24.0</td>\n",
       "      <td>sham sharma</td>\n",
       "      <td>0.24</td>\n",
       "      <td>sham</td>\n",
       "      <td>sharma</td>\n",
       "    </tr>\n",
       "    <tr>\n",
       "      <th>2</th>\n",
       "      <td>shubham.patne@email.com</td>\n",
       "      <td>23.0</td>\n",
       "      <td>shubham patne</td>\n",
       "      <td>0.23</td>\n",
       "      <td>shubham</td>\n",
       "      <td>patne</td>\n",
       "    </tr>\n",
       "    <tr>\n",
       "      <th>4</th>\n",
       "      <td>stev@avaenge.com</td>\n",
       "      <td>27.0</td>\n",
       "      <td>NaN</td>\n",
       "      <td>NaN</td>\n",
       "      <td>stev</td>\n",
       "      <td>Rogers</td>\n",
       "    </tr>\n",
       "    <tr>\n",
       "      <th>5</th>\n",
       "      <td>wanda@avarnge.com</td>\n",
       "      <td>22.0</td>\n",
       "      <td>NaN</td>\n",
       "      <td>NaN</td>\n",
       "      <td>wanda</td>\n",
       "      <td>vison</td>\n",
       "    </tr>\n",
       "  </tbody>\n",
       "</table>\n",
       "</div>"
      ],
      "text/plain": [
       "                     email   age      full_name  age_percent    first    last\n",
       "0            ram@email.com  24.0      ram patil         0.24      ram   patil\n",
       "1           sham@email.com  24.0    sham sharma         0.24     sham  sharma\n",
       "2  shubham.patne@email.com  23.0  shubham patne         0.23  shubham   patne\n",
       "4         stev@avaenge.com  27.0            NaN          NaN     stev  Rogers\n",
       "5        wanda@avarnge.com  22.0            NaN          NaN    wanda   vison"
      ]
     },
     "execution_count": 86,
     "metadata": {},
     "output_type": "execute_result"
    }
   ],
   "source": [
    "# Dropping / removing particular row\n",
    "df.drop(index=3)"
   ]
  },
  {
   "cell_type": "code",
   "execution_count": 88,
   "id": "7dafd7e7",
   "metadata": {},
   "outputs": [
    {
     "data": {
      "text/html": [
       "<div>\n",
       "<style scoped>\n",
       "    .dataframe tbody tr th:only-of-type {\n",
       "        vertical-align: middle;\n",
       "    }\n",
       "\n",
       "    .dataframe tbody tr th {\n",
       "        vertical-align: top;\n",
       "    }\n",
       "\n",
       "    .dataframe thead th {\n",
       "        text-align: right;\n",
       "    }\n",
       "</style>\n",
       "<table border=\"1\" class=\"dataframe\">\n",
       "  <thead>\n",
       "    <tr style=\"text-align: right;\">\n",
       "      <th></th>\n",
       "      <th>email</th>\n",
       "      <th>age</th>\n",
       "      <th>full_name</th>\n",
       "      <th>age_percent</th>\n",
       "      <th>first</th>\n",
       "      <th>last</th>\n",
       "    </tr>\n",
       "  </thead>\n",
       "  <tbody>\n",
       "    <tr>\n",
       "      <th>0</th>\n",
       "      <td>ram@email.com</td>\n",
       "      <td>24.0</td>\n",
       "      <td>ram patil</td>\n",
       "      <td>0.24</td>\n",
       "      <td>ram</td>\n",
       "      <td>patil</td>\n",
       "    </tr>\n",
       "    <tr>\n",
       "      <th>1</th>\n",
       "      <td>sham@email.com</td>\n",
       "      <td>24.0</td>\n",
       "      <td>sham sharma</td>\n",
       "      <td>0.24</td>\n",
       "      <td>sham</td>\n",
       "      <td>sharma</td>\n",
       "    </tr>\n",
       "    <tr>\n",
       "      <th>2</th>\n",
       "      <td>shubham.patne@email.com</td>\n",
       "      <td>23.0</td>\n",
       "      <td>shubham patne</td>\n",
       "      <td>0.23</td>\n",
       "      <td>shubham</td>\n",
       "      <td>patne</td>\n",
       "    </tr>\n",
       "  </tbody>\n",
       "</table>\n",
       "</div>"
      ],
      "text/plain": [
       "                     email   age      full_name  age_percent    first    last\n",
       "0            ram@email.com  24.0      ram patil         0.24      ram   patil\n",
       "1           sham@email.com  24.0    sham sharma         0.24     sham  sharma\n",
       "2  shubham.patne@email.com  23.0  shubham patne         0.23  shubham   patne"
      ]
     },
     "execution_count": 88,
     "metadata": {},
     "output_type": "execute_result"
    }
   ],
   "source": [
    "# removing rows where age_percent is null\n",
    "filt = (df['age_percent'].isnull())\n",
    "\n",
    "# .index method will give indices of those filtered rows . To make changes to DF use inplace = True\n",
    "df.drop(index=df[filt].index)"
   ]
  },
  {
   "cell_type": "markdown",
   "id": "9df3ca77",
   "metadata": {},
   "source": [
    "# Sorting Data"
   ]
  },
  {
   "cell_type": "code",
   "execution_count": 90,
   "id": "4841f94d",
   "metadata": {},
   "outputs": [],
   "source": [
    "# Drop uncessary columns \n",
    "df.drop(columns=['age_percent'],inplace=True)"
   ]
  },
  {
   "cell_type": "code",
   "execution_count": 93,
   "id": "a382eb23",
   "metadata": {},
   "outputs": [
    {
     "data": {
      "text/html": [
       "<div>\n",
       "<style scoped>\n",
       "    .dataframe tbody tr th:only-of-type {\n",
       "        vertical-align: middle;\n",
       "    }\n",
       "\n",
       "    .dataframe tbody tr th {\n",
       "        vertical-align: top;\n",
       "    }\n",
       "\n",
       "    .dataframe thead th {\n",
       "        text-align: right;\n",
       "    }\n",
       "</style>\n",
       "<table border=\"1\" class=\"dataframe\">\n",
       "  <thead>\n",
       "    <tr style=\"text-align: right;\">\n",
       "      <th></th>\n",
       "      <th>email</th>\n",
       "      <th>age</th>\n",
       "      <th>full_name</th>\n",
       "      <th>first</th>\n",
       "      <th>last</th>\n",
       "    </tr>\n",
       "  </thead>\n",
       "  <tbody>\n",
       "    <tr>\n",
       "      <th>5</th>\n",
       "      <td>wanda@avarnge.com</td>\n",
       "      <td>22.0</td>\n",
       "      <td>NaN</td>\n",
       "      <td>wanda</td>\n",
       "      <td>vison</td>\n",
       "    </tr>\n",
       "    <tr>\n",
       "      <th>1</th>\n",
       "      <td>sham@email.com</td>\n",
       "      <td>24.0</td>\n",
       "      <td>sham sharma</td>\n",
       "      <td>sham</td>\n",
       "      <td>sharma</td>\n",
       "    </tr>\n",
       "    <tr>\n",
       "      <th>2</th>\n",
       "      <td>shubham.patne@email.com</td>\n",
       "      <td>23.0</td>\n",
       "      <td>shubham patne</td>\n",
       "      <td>shubham</td>\n",
       "      <td>patne</td>\n",
       "    </tr>\n",
       "    <tr>\n",
       "      <th>0</th>\n",
       "      <td>ram@email.com</td>\n",
       "      <td>24.0</td>\n",
       "      <td>ram patil</td>\n",
       "      <td>ram</td>\n",
       "      <td>patil</td>\n",
       "    </tr>\n",
       "    <tr>\n",
       "      <th>4</th>\n",
       "      <td>stev@avaenge.com</td>\n",
       "      <td>27.0</td>\n",
       "      <td>NaN</td>\n",
       "      <td>stev</td>\n",
       "      <td>Rogers</td>\n",
       "    </tr>\n",
       "    <tr>\n",
       "      <th>3</th>\n",
       "      <td>Tony.Deo@email.com</td>\n",
       "      <td>26.0</td>\n",
       "      <td>Tony Deo</td>\n",
       "      <td>tony</td>\n",
       "      <td>Deo</td>\n",
       "    </tr>\n",
       "  </tbody>\n",
       "</table>\n",
       "</div>"
      ],
      "text/plain": [
       "                     email   age      full_name    first    last\n",
       "5        wanda@avarnge.com  22.0            NaN    wanda   vison\n",
       "1           sham@email.com  24.0    sham sharma     sham  sharma\n",
       "2  shubham.patne@email.com  23.0  shubham patne  shubham   patne\n",
       "0            ram@email.com  24.0      ram patil      ram   patil\n",
       "4         stev@avaenge.com  27.0            NaN     stev  Rogers\n",
       "3       Tony.Deo@email.com  26.0       Tony Deo     tony     Deo"
      ]
     },
     "execution_count": 93,
     "metadata": {},
     "output_type": "execute_result"
    }
   ],
   "source": [
    "# Sort by last name in desceding order\n",
    "df.sort_values(by='last', ascending=False)"
   ]
  },
  {
   "cell_type": "code",
   "execution_count": 95,
   "id": "b6b75ac7",
   "metadata": {},
   "outputs": [
    {
     "data": {
      "text/html": [
       "<div>\n",
       "<style scoped>\n",
       "    .dataframe tbody tr th:only-of-type {\n",
       "        vertical-align: middle;\n",
       "    }\n",
       "\n",
       "    .dataframe tbody tr th {\n",
       "        vertical-align: top;\n",
       "    }\n",
       "\n",
       "    .dataframe thead th {\n",
       "        text-align: right;\n",
       "    }\n",
       "</style>\n",
       "<table border=\"1\" class=\"dataframe\">\n",
       "  <thead>\n",
       "    <tr style=\"text-align: right;\">\n",
       "      <th></th>\n",
       "      <th>email</th>\n",
       "      <th>age</th>\n",
       "      <th>full_name</th>\n",
       "      <th>first</th>\n",
       "      <th>last</th>\n",
       "    </tr>\n",
       "  </thead>\n",
       "  <tbody>\n",
       "    <tr>\n",
       "      <th>5</th>\n",
       "      <td>wanda@avarnge.com</td>\n",
       "      <td>22.0</td>\n",
       "      <td>NaN</td>\n",
       "      <td>wanda</td>\n",
       "      <td>vison</td>\n",
       "    </tr>\n",
       "    <tr>\n",
       "      <th>1</th>\n",
       "      <td>sham@email.com</td>\n",
       "      <td>24.0</td>\n",
       "      <td>sham sharma</td>\n",
       "      <td>sham</td>\n",
       "      <td>sharma</td>\n",
       "    </tr>\n",
       "    <tr>\n",
       "      <th>2</th>\n",
       "      <td>shubham.patne@email.com</td>\n",
       "      <td>23.0</td>\n",
       "      <td>shubham patne</td>\n",
       "      <td>shubham</td>\n",
       "      <td>patne</td>\n",
       "    </tr>\n",
       "    <tr>\n",
       "      <th>0</th>\n",
       "      <td>ram@email.com</td>\n",
       "      <td>24.0</td>\n",
       "      <td>ram patil</td>\n",
       "      <td>ram</td>\n",
       "      <td>patil</td>\n",
       "    </tr>\n",
       "    <tr>\n",
       "      <th>4</th>\n",
       "      <td>stev@avaenge.com</td>\n",
       "      <td>27.0</td>\n",
       "      <td>NaN</td>\n",
       "      <td>stev</td>\n",
       "      <td>Rogers</td>\n",
       "    </tr>\n",
       "    <tr>\n",
       "      <th>3</th>\n",
       "      <td>Tony.Deo@email.com</td>\n",
       "      <td>26.0</td>\n",
       "      <td>Tony Deo</td>\n",
       "      <td>tony</td>\n",
       "      <td>Deo</td>\n",
       "    </tr>\n",
       "  </tbody>\n",
       "</table>\n",
       "</div>"
      ],
      "text/plain": [
       "                     email   age      full_name    first    last\n",
       "5        wanda@avarnge.com  22.0            NaN    wanda   vison\n",
       "1           sham@email.com  24.0    sham sharma     sham  sharma\n",
       "2  shubham.patne@email.com  23.0  shubham patne  shubham   patne\n",
       "0            ram@email.com  24.0      ram patil      ram   patil\n",
       "4         stev@avaenge.com  27.0            NaN     stev  Rogers\n",
       "3       Tony.Deo@email.com  26.0       Tony Deo     tony     Deo"
      ]
     },
     "execution_count": 95,
     "metadata": {},
     "output_type": "execute_result"
    }
   ],
   "source": [
    "# Sort by last name and if last name is same then sort by first name in desceding order\n",
    "df.sort_values(by=['last','first'],ascending=False)"
   ]
  },
  {
   "cell_type": "code",
   "execution_count": 97,
   "id": "fdd3fe87",
   "metadata": {},
   "outputs": [
    {
     "data": {
      "text/html": [
       "<div>\n",
       "<style scoped>\n",
       "    .dataframe tbody tr th:only-of-type {\n",
       "        vertical-align: middle;\n",
       "    }\n",
       "\n",
       "    .dataframe tbody tr th {\n",
       "        vertical-align: top;\n",
       "    }\n",
       "\n",
       "    .dataframe thead th {\n",
       "        text-align: right;\n",
       "    }\n",
       "</style>\n",
       "<table border=\"1\" class=\"dataframe\">\n",
       "  <thead>\n",
       "    <tr style=\"text-align: right;\">\n",
       "      <th></th>\n",
       "      <th>email</th>\n",
       "      <th>age</th>\n",
       "      <th>full_name</th>\n",
       "      <th>first</th>\n",
       "      <th>last</th>\n",
       "    </tr>\n",
       "  </thead>\n",
       "  <tbody>\n",
       "    <tr>\n",
       "      <th>5</th>\n",
       "      <td>wanda@avarnge.com</td>\n",
       "      <td>22.0</td>\n",
       "      <td>NaN</td>\n",
       "      <td>wanda</td>\n",
       "      <td>vison</td>\n",
       "    </tr>\n",
       "    <tr>\n",
       "      <th>1</th>\n",
       "      <td>sham@email.com</td>\n",
       "      <td>24.0</td>\n",
       "      <td>sham sharma</td>\n",
       "      <td>sham</td>\n",
       "      <td>sharma</td>\n",
       "    </tr>\n",
       "    <tr>\n",
       "      <th>2</th>\n",
       "      <td>shubham.patne@email.com</td>\n",
       "      <td>23.0</td>\n",
       "      <td>shubham patne</td>\n",
       "      <td>shubham</td>\n",
       "      <td>patne</td>\n",
       "    </tr>\n",
       "    <tr>\n",
       "      <th>0</th>\n",
       "      <td>ram@email.com</td>\n",
       "      <td>24.0</td>\n",
       "      <td>ram patil</td>\n",
       "      <td>ram</td>\n",
       "      <td>patil</td>\n",
       "    </tr>\n",
       "    <tr>\n",
       "      <th>4</th>\n",
       "      <td>stev@avaenge.com</td>\n",
       "      <td>27.0</td>\n",
       "      <td>NaN</td>\n",
       "      <td>stev</td>\n",
       "      <td>Rogers</td>\n",
       "    </tr>\n",
       "    <tr>\n",
       "      <th>3</th>\n",
       "      <td>Tony.Deo@email.com</td>\n",
       "      <td>26.0</td>\n",
       "      <td>Tony Deo</td>\n",
       "      <td>tony</td>\n",
       "      <td>Deo</td>\n",
       "    </tr>\n",
       "  </tbody>\n",
       "</table>\n",
       "</div>"
      ],
      "text/plain": [
       "                     email   age      full_name    first    last\n",
       "5        wanda@avarnge.com  22.0            NaN    wanda   vison\n",
       "1           sham@email.com  24.0    sham sharma     sham  sharma\n",
       "2  shubham.patne@email.com  23.0  shubham patne  shubham   patne\n",
       "0            ram@email.com  24.0      ram patil      ram   patil\n",
       "4         stev@avaenge.com  27.0            NaN     stev  Rogers\n",
       "3       Tony.Deo@email.com  26.0       Tony Deo     tony     Deo"
      ]
     },
     "execution_count": 97,
     "metadata": {},
     "output_type": "execute_result"
    }
   ],
   "source": [
    "# Sort by last name in descending order and first name in ascedning order\n",
    "df.sort_values(by=['last','first'],ascending=[False,True])"
   ]
  },
  {
   "cell_type": "code",
   "execution_count": 98,
   "id": "9dee40d5",
   "metadata": {},
   "outputs": [
    {
     "data": {
      "text/html": [
       "<div>\n",
       "<style scoped>\n",
       "    .dataframe tbody tr th:only-of-type {\n",
       "        vertical-align: middle;\n",
       "    }\n",
       "\n",
       "    .dataframe tbody tr th {\n",
       "        vertical-align: top;\n",
       "    }\n",
       "\n",
       "    .dataframe thead th {\n",
       "        text-align: right;\n",
       "    }\n",
       "</style>\n",
       "<table border=\"1\" class=\"dataframe\">\n",
       "  <thead>\n",
       "    <tr style=\"text-align: right;\">\n",
       "      <th></th>\n",
       "      <th>email</th>\n",
       "      <th>age</th>\n",
       "      <th>full_name</th>\n",
       "      <th>first</th>\n",
       "      <th>last</th>\n",
       "    </tr>\n",
       "  </thead>\n",
       "  <tbody>\n",
       "    <tr>\n",
       "      <th>0</th>\n",
       "      <td>ram@email.com</td>\n",
       "      <td>24.0</td>\n",
       "      <td>ram patil</td>\n",
       "      <td>ram</td>\n",
       "      <td>patil</td>\n",
       "    </tr>\n",
       "    <tr>\n",
       "      <th>1</th>\n",
       "      <td>sham@email.com</td>\n",
       "      <td>24.0</td>\n",
       "      <td>sham sharma</td>\n",
       "      <td>sham</td>\n",
       "      <td>sharma</td>\n",
       "    </tr>\n",
       "    <tr>\n",
       "      <th>2</th>\n",
       "      <td>shubham.patne@email.com</td>\n",
       "      <td>23.0</td>\n",
       "      <td>shubham patne</td>\n",
       "      <td>shubham</td>\n",
       "      <td>patne</td>\n",
       "    </tr>\n",
       "    <tr>\n",
       "      <th>3</th>\n",
       "      <td>Tony.Deo@email.com</td>\n",
       "      <td>26.0</td>\n",
       "      <td>Tony Deo</td>\n",
       "      <td>tony</td>\n",
       "      <td>Deo</td>\n",
       "    </tr>\n",
       "    <tr>\n",
       "      <th>4</th>\n",
       "      <td>stev@avaenge.com</td>\n",
       "      <td>27.0</td>\n",
       "      <td>NaN</td>\n",
       "      <td>stev</td>\n",
       "      <td>Rogers</td>\n",
       "    </tr>\n",
       "    <tr>\n",
       "      <th>5</th>\n",
       "      <td>wanda@avarnge.com</td>\n",
       "      <td>22.0</td>\n",
       "      <td>NaN</td>\n",
       "      <td>wanda</td>\n",
       "      <td>vison</td>\n",
       "    </tr>\n",
       "  </tbody>\n",
       "</table>\n",
       "</div>"
      ],
      "text/plain": [
       "                     email   age      full_name    first    last\n",
       "0            ram@email.com  24.0      ram patil      ram   patil\n",
       "1           sham@email.com  24.0    sham sharma     sham  sharma\n",
       "2  shubham.patne@email.com  23.0  shubham patne  shubham   patne\n",
       "3       Tony.Deo@email.com  26.0       Tony Deo     tony     Deo\n",
       "4         stev@avaenge.com  27.0            NaN     stev  Rogers\n",
       "5        wanda@avarnge.com  22.0            NaN    wanda   vison"
      ]
     },
     "execution_count": 98,
     "metadata": {},
     "output_type": "execute_result"
    }
   ],
   "source": [
    "# Sort by index to make it as it was before\n",
    "df.sort_index()"
   ]
  },
  {
   "cell_type": "code",
   "execution_count": 99,
   "id": "0160a8df",
   "metadata": {},
   "outputs": [
    {
     "data": {
      "text/plain": [
       "5    22.0\n",
       "2    23.0\n",
       "0    24.0\n",
       "1    24.0\n",
       "3    26.0\n",
       "4    27.0\n",
       "Name: age, dtype: float64"
      ]
     },
     "execution_count": 99,
     "metadata": {},
     "output_type": "execute_result"
    }
   ],
   "source": [
    "# sort particular columns\n",
    "df['age'].sort_values()"
   ]
  },
  {
   "cell_type": "markdown",
   "id": "9120fdfc",
   "metadata": {},
   "source": [
    "# Cleaning Data"
   ]
  },
  {
   "cell_type": "code",
   "execution_count": 100,
   "id": "7c5b41b3",
   "metadata": {},
   "outputs": [],
   "source": [
    "import numpy as np"
   ]
  },
  {
   "cell_type": "code",
   "execution_count": 111,
   "id": "d3cb7301",
   "metadata": {},
   "outputs": [],
   "source": [
    "people = {\n",
    "    'first':['ram','sham','shubham','John',np.nan,None,'NA'],\n",
    "    'last':['patil','sharma','patne','Doe',np.nan,'Potter','Missing'],\n",
    "    'age':['23','25','27','44',None,None,'Missing'],\n",
    "    'email':['ram@gmail.com','sham@gmail.com','shubham@gmail.com','john@gmail.com',None,np.nan,'Anoyamous@gmail.com']\n",
    "}"
   ]
  },
  {
   "cell_type": "code",
   "execution_count": 127,
   "id": "a665c134",
   "metadata": {},
   "outputs": [],
   "source": [
    "df = pd.DataFrame(people)\n",
    "\n",
    "# To replace custom NA or Missing values\n",
    "df.replace('NA',np.nan,inplace=True)\n",
    "df.replace('Missing',np.nan,inplace=True)"
   ]
  },
  {
   "cell_type": "code",
   "execution_count": 113,
   "id": "987cdb4e",
   "metadata": {},
   "outputs": [
    {
     "data": {
      "text/html": [
       "<div>\n",
       "<style scoped>\n",
       "    .dataframe tbody tr th:only-of-type {\n",
       "        vertical-align: middle;\n",
       "    }\n",
       "\n",
       "    .dataframe tbody tr th {\n",
       "        vertical-align: top;\n",
       "    }\n",
       "\n",
       "    .dataframe thead th {\n",
       "        text-align: right;\n",
       "    }\n",
       "</style>\n",
       "<table border=\"1\" class=\"dataframe\">\n",
       "  <thead>\n",
       "    <tr style=\"text-align: right;\">\n",
       "      <th></th>\n",
       "      <th>first</th>\n",
       "      <th>last</th>\n",
       "      <th>age</th>\n",
       "      <th>email</th>\n",
       "    </tr>\n",
       "  </thead>\n",
       "  <tbody>\n",
       "    <tr>\n",
       "      <th>0</th>\n",
       "      <td>ram</td>\n",
       "      <td>patil</td>\n",
       "      <td>23</td>\n",
       "      <td>ram@gmail.com</td>\n",
       "    </tr>\n",
       "    <tr>\n",
       "      <th>1</th>\n",
       "      <td>sham</td>\n",
       "      <td>sharma</td>\n",
       "      <td>25</td>\n",
       "      <td>sham@gmail.com</td>\n",
       "    </tr>\n",
       "    <tr>\n",
       "      <th>2</th>\n",
       "      <td>shubham</td>\n",
       "      <td>patne</td>\n",
       "      <td>27</td>\n",
       "      <td>shubham@gmail.com</td>\n",
       "    </tr>\n",
       "    <tr>\n",
       "      <th>3</th>\n",
       "      <td>John</td>\n",
       "      <td>Doe</td>\n",
       "      <td>44</td>\n",
       "      <td>john@gmail.com</td>\n",
       "    </tr>\n",
       "    <tr>\n",
       "      <th>4</th>\n",
       "      <td>NaN</td>\n",
       "      <td>NaN</td>\n",
       "      <td>None</td>\n",
       "      <td>None</td>\n",
       "    </tr>\n",
       "    <tr>\n",
       "      <th>5</th>\n",
       "      <td>None</td>\n",
       "      <td>Potter</td>\n",
       "      <td>None</td>\n",
       "      <td>NaN</td>\n",
       "    </tr>\n",
       "    <tr>\n",
       "      <th>6</th>\n",
       "      <td>NA</td>\n",
       "      <td>Missing</td>\n",
       "      <td>Missing</td>\n",
       "      <td>Anoyamous@gmail.com</td>\n",
       "    </tr>\n",
       "  </tbody>\n",
       "</table>\n",
       "</div>"
      ],
      "text/plain": [
       "     first     last      age                email\n",
       "0      ram    patil       23        ram@gmail.com\n",
       "1     sham   sharma       25       sham@gmail.com\n",
       "2  shubham    patne       27    shubham@gmail.com\n",
       "3     John      Doe       44       john@gmail.com\n",
       "4      NaN      NaN     None                 None\n",
       "5     None   Potter     None                  NaN\n",
       "6       NA  Missing  Missing  Anoyamous@gmail.com"
      ]
     },
     "execution_count": 113,
     "metadata": {},
     "output_type": "execute_result"
    }
   ],
   "source": [
    "df"
   ]
  },
  {
   "cell_type": "code",
   "execution_count": 128,
   "id": "041f42c3",
   "metadata": {},
   "outputs": [
    {
     "data": {
      "text/html": [
       "<div>\n",
       "<style scoped>\n",
       "    .dataframe tbody tr th:only-of-type {\n",
       "        vertical-align: middle;\n",
       "    }\n",
       "\n",
       "    .dataframe tbody tr th {\n",
       "        vertical-align: top;\n",
       "    }\n",
       "\n",
       "    .dataframe thead th {\n",
       "        text-align: right;\n",
       "    }\n",
       "</style>\n",
       "<table border=\"1\" class=\"dataframe\">\n",
       "  <thead>\n",
       "    <tr style=\"text-align: right;\">\n",
       "      <th></th>\n",
       "      <th>first</th>\n",
       "      <th>last</th>\n",
       "      <th>age</th>\n",
       "      <th>email</th>\n",
       "    </tr>\n",
       "  </thead>\n",
       "  <tbody>\n",
       "    <tr>\n",
       "      <th>0</th>\n",
       "      <td>ram</td>\n",
       "      <td>patil</td>\n",
       "      <td>23</td>\n",
       "      <td>ram@gmail.com</td>\n",
       "    </tr>\n",
       "    <tr>\n",
       "      <th>1</th>\n",
       "      <td>sham</td>\n",
       "      <td>sharma</td>\n",
       "      <td>25</td>\n",
       "      <td>sham@gmail.com</td>\n",
       "    </tr>\n",
       "    <tr>\n",
       "      <th>2</th>\n",
       "      <td>shubham</td>\n",
       "      <td>patne</td>\n",
       "      <td>27</td>\n",
       "      <td>shubham@gmail.com</td>\n",
       "    </tr>\n",
       "    <tr>\n",
       "      <th>3</th>\n",
       "      <td>John</td>\n",
       "      <td>Doe</td>\n",
       "      <td>44</td>\n",
       "      <td>john@gmail.com</td>\n",
       "    </tr>\n",
       "  </tbody>\n",
       "</table>\n",
       "</div>"
      ],
      "text/plain": [
       "     first    last age              email\n",
       "0      ram   patil  23      ram@gmail.com\n",
       "1     sham  sharma  25     sham@gmail.com\n",
       "2  shubham   patne  27  shubham@gmail.com\n",
       "3     John     Doe  44     john@gmail.com"
      ]
     },
     "execution_count": 128,
     "metadata": {},
     "output_type": "execute_result"
    }
   ],
   "source": [
    "# To drop rows having None or nan values we can use dropna method\n",
    "# default values they use are (axis='index'  , how='any')\n",
    "# Axis if index it will drop rows and if columns it will drop columns\n",
    "# how defines criteria like for 'any' it will drop row if any of columns have null and for 'all' it will \n",
    "# drop only if all columns of the rows are null\n",
    "\n",
    "df.dropna()"
   ]
  },
  {
   "cell_type": "code",
   "execution_count": 129,
   "id": "bee31b6a",
   "metadata": {},
   "outputs": [
    {
     "data": {
      "text/html": [
       "<div>\n",
       "<style scoped>\n",
       "    .dataframe tbody tr th:only-of-type {\n",
       "        vertical-align: middle;\n",
       "    }\n",
       "\n",
       "    .dataframe tbody tr th {\n",
       "        vertical-align: top;\n",
       "    }\n",
       "\n",
       "    .dataframe thead th {\n",
       "        text-align: right;\n",
       "    }\n",
       "</style>\n",
       "<table border=\"1\" class=\"dataframe\">\n",
       "  <thead>\n",
       "    <tr style=\"text-align: right;\">\n",
       "      <th></th>\n",
       "      <th>first</th>\n",
       "      <th>last</th>\n",
       "      <th>age</th>\n",
       "      <th>email</th>\n",
       "    </tr>\n",
       "  </thead>\n",
       "  <tbody>\n",
       "    <tr>\n",
       "      <th>0</th>\n",
       "      <td>ram</td>\n",
       "      <td>patil</td>\n",
       "      <td>23</td>\n",
       "      <td>ram@gmail.com</td>\n",
       "    </tr>\n",
       "    <tr>\n",
       "      <th>1</th>\n",
       "      <td>sham</td>\n",
       "      <td>sharma</td>\n",
       "      <td>25</td>\n",
       "      <td>sham@gmail.com</td>\n",
       "    </tr>\n",
       "    <tr>\n",
       "      <th>2</th>\n",
       "      <td>shubham</td>\n",
       "      <td>patne</td>\n",
       "      <td>27</td>\n",
       "      <td>shubham@gmail.com</td>\n",
       "    </tr>\n",
       "    <tr>\n",
       "      <th>3</th>\n",
       "      <td>John</td>\n",
       "      <td>Doe</td>\n",
       "      <td>44</td>\n",
       "      <td>john@gmail.com</td>\n",
       "    </tr>\n",
       "  </tbody>\n",
       "</table>\n",
       "</div>"
      ],
      "text/plain": [
       "     first    last age              email\n",
       "0      ram   patil  23      ram@gmail.com\n",
       "1     sham  sharma  25     sham@gmail.com\n",
       "2  shubham   patne  27  shubham@gmail.com\n",
       "3     John     Doe  44     john@gmail.com"
      ]
     },
     "execution_count": 129,
     "metadata": {},
     "output_type": "execute_result"
    }
   ],
   "source": [
    "df.dropna(axis='index',how='any')"
   ]
  },
  {
   "cell_type": "code",
   "execution_count": 130,
   "id": "348622d5",
   "metadata": {},
   "outputs": [
    {
     "data": {
      "text/html": [
       "<div>\n",
       "<style scoped>\n",
       "    .dataframe tbody tr th:only-of-type {\n",
       "        vertical-align: middle;\n",
       "    }\n",
       "\n",
       "    .dataframe tbody tr th {\n",
       "        vertical-align: top;\n",
       "    }\n",
       "\n",
       "    .dataframe thead th {\n",
       "        text-align: right;\n",
       "    }\n",
       "</style>\n",
       "<table border=\"1\" class=\"dataframe\">\n",
       "  <thead>\n",
       "    <tr style=\"text-align: right;\">\n",
       "      <th></th>\n",
       "      <th>first</th>\n",
       "      <th>last</th>\n",
       "      <th>age</th>\n",
       "      <th>email</th>\n",
       "    </tr>\n",
       "  </thead>\n",
       "  <tbody>\n",
       "    <tr>\n",
       "      <th>0</th>\n",
       "      <td>ram</td>\n",
       "      <td>patil</td>\n",
       "      <td>23</td>\n",
       "      <td>ram@gmail.com</td>\n",
       "    </tr>\n",
       "    <tr>\n",
       "      <th>1</th>\n",
       "      <td>sham</td>\n",
       "      <td>sharma</td>\n",
       "      <td>25</td>\n",
       "      <td>sham@gmail.com</td>\n",
       "    </tr>\n",
       "    <tr>\n",
       "      <th>2</th>\n",
       "      <td>shubham</td>\n",
       "      <td>patne</td>\n",
       "      <td>27</td>\n",
       "      <td>shubham@gmail.com</td>\n",
       "    </tr>\n",
       "    <tr>\n",
       "      <th>3</th>\n",
       "      <td>John</td>\n",
       "      <td>Doe</td>\n",
       "      <td>44</td>\n",
       "      <td>john@gmail.com</td>\n",
       "    </tr>\n",
       "    <tr>\n",
       "      <th>5</th>\n",
       "      <td>None</td>\n",
       "      <td>Potter</td>\n",
       "      <td>None</td>\n",
       "      <td>NaN</td>\n",
       "    </tr>\n",
       "    <tr>\n",
       "      <th>6</th>\n",
       "      <td>NaN</td>\n",
       "      <td>NaN</td>\n",
       "      <td>NaN</td>\n",
       "      <td>Anoyamous@gmail.com</td>\n",
       "    </tr>\n",
       "  </tbody>\n",
       "</table>\n",
       "</div>"
      ],
      "text/plain": [
       "     first    last   age                email\n",
       "0      ram   patil    23        ram@gmail.com\n",
       "1     sham  sharma    25       sham@gmail.com\n",
       "2  shubham   patne    27    shubham@gmail.com\n",
       "3     John     Doe    44       john@gmail.com\n",
       "5     None  Potter  None                  NaN\n",
       "6      NaN     NaN   NaN  Anoyamous@gmail.com"
      ]
     },
     "execution_count": 130,
     "metadata": {},
     "output_type": "execute_result"
    }
   ],
   "source": [
    "df.dropna(axis='index',how='all') # Notice record having potter last name"
   ]
  },
  {
   "cell_type": "code",
   "execution_count": 131,
   "id": "04445aa8",
   "metadata": {},
   "outputs": [
    {
     "data": {
      "text/html": [
       "<div>\n",
       "<style scoped>\n",
       "    .dataframe tbody tr th:only-of-type {\n",
       "        vertical-align: middle;\n",
       "    }\n",
       "\n",
       "    .dataframe tbody tr th {\n",
       "        vertical-align: top;\n",
       "    }\n",
       "\n",
       "    .dataframe thead th {\n",
       "        text-align: right;\n",
       "    }\n",
       "</style>\n",
       "<table border=\"1\" class=\"dataframe\">\n",
       "  <thead>\n",
       "    <tr style=\"text-align: right;\">\n",
       "      <th></th>\n",
       "    </tr>\n",
       "  </thead>\n",
       "  <tbody>\n",
       "    <tr>\n",
       "      <th>0</th>\n",
       "    </tr>\n",
       "    <tr>\n",
       "      <th>1</th>\n",
       "    </tr>\n",
       "    <tr>\n",
       "      <th>2</th>\n",
       "    </tr>\n",
       "    <tr>\n",
       "      <th>3</th>\n",
       "    </tr>\n",
       "    <tr>\n",
       "      <th>4</th>\n",
       "    </tr>\n",
       "    <tr>\n",
       "      <th>5</th>\n",
       "    </tr>\n",
       "    <tr>\n",
       "      <th>6</th>\n",
       "    </tr>\n",
       "  </tbody>\n",
       "</table>\n",
       "</div>"
      ],
      "text/plain": [
       "Empty DataFrame\n",
       "Columns: []\n",
       "Index: [0, 1, 2, 3, 4, 5, 6]"
      ]
     },
     "execution_count": 131,
     "metadata": {},
     "output_type": "execute_result"
    }
   ],
   "source": [
    "# This will drop whole DF as we have one row in which all the columns are None\n",
    "df.dropna(axis='columns')"
   ]
  },
  {
   "cell_type": "code",
   "execution_count": 132,
   "id": "c121ef63",
   "metadata": {},
   "outputs": [
    {
     "data": {
      "text/html": [
       "<div>\n",
       "<style scoped>\n",
       "    .dataframe tbody tr th:only-of-type {\n",
       "        vertical-align: middle;\n",
       "    }\n",
       "\n",
       "    .dataframe tbody tr th {\n",
       "        vertical-align: top;\n",
       "    }\n",
       "\n",
       "    .dataframe thead th {\n",
       "        text-align: right;\n",
       "    }\n",
       "</style>\n",
       "<table border=\"1\" class=\"dataframe\">\n",
       "  <thead>\n",
       "    <tr style=\"text-align: right;\">\n",
       "      <th></th>\n",
       "      <th>first</th>\n",
       "      <th>last</th>\n",
       "      <th>age</th>\n",
       "      <th>email</th>\n",
       "    </tr>\n",
       "  </thead>\n",
       "  <tbody>\n",
       "    <tr>\n",
       "      <th>0</th>\n",
       "      <td>ram</td>\n",
       "      <td>patil</td>\n",
       "      <td>23</td>\n",
       "      <td>ram@gmail.com</td>\n",
       "    </tr>\n",
       "    <tr>\n",
       "      <th>1</th>\n",
       "      <td>sham</td>\n",
       "      <td>sharma</td>\n",
       "      <td>25</td>\n",
       "      <td>sham@gmail.com</td>\n",
       "    </tr>\n",
       "    <tr>\n",
       "      <th>2</th>\n",
       "      <td>shubham</td>\n",
       "      <td>patne</td>\n",
       "      <td>27</td>\n",
       "      <td>shubham@gmail.com</td>\n",
       "    </tr>\n",
       "    <tr>\n",
       "      <th>3</th>\n",
       "      <td>John</td>\n",
       "      <td>Doe</td>\n",
       "      <td>44</td>\n",
       "      <td>john@gmail.com</td>\n",
       "    </tr>\n",
       "  </tbody>\n",
       "</table>\n",
       "</div>"
      ],
      "text/plain": [
       "     first    last age              email\n",
       "0      ram   patil  23      ram@gmail.com\n",
       "1     sham  sharma  25     sham@gmail.com\n",
       "2  shubham   patne  27  shubham@gmail.com\n",
       "3     John     Doe  44     john@gmail.com"
      ]
     },
     "execution_count": 132,
     "metadata": {},
     "output_type": "execute_result"
    }
   ],
   "source": [
    "# If we want to drop rows only if particular columns are null then we can pass subset list\n",
    "# Notice here if we pass subset , then 'how' will look into those columns only\n",
    "# For example here if we pass how='any' then it will drop rows if any of email or last name is null\n",
    "# And if we pass how='all' then it will drop rows only if both of these all null\n",
    "\n",
    "df.dropna(axis='index',how='any',subset=['email','last'])"
   ]
  },
  {
   "cell_type": "code",
   "execution_count": 136,
   "id": "5a73820d",
   "metadata": {},
   "outputs": [
    {
     "data": {
      "text/html": [
       "<div>\n",
       "<style scoped>\n",
       "    .dataframe tbody tr th:only-of-type {\n",
       "        vertical-align: middle;\n",
       "    }\n",
       "\n",
       "    .dataframe tbody tr th {\n",
       "        vertical-align: top;\n",
       "    }\n",
       "\n",
       "    .dataframe thead th {\n",
       "        text-align: right;\n",
       "    }\n",
       "</style>\n",
       "<table border=\"1\" class=\"dataframe\">\n",
       "  <thead>\n",
       "    <tr style=\"text-align: right;\">\n",
       "      <th></th>\n",
       "      <th>first</th>\n",
       "      <th>last</th>\n",
       "      <th>age</th>\n",
       "      <th>email</th>\n",
       "    </tr>\n",
       "  </thead>\n",
       "  <tbody>\n",
       "    <tr>\n",
       "      <th>0</th>\n",
       "      <td>ram</td>\n",
       "      <td>patil</td>\n",
       "      <td>23</td>\n",
       "      <td>ram@gmail.com</td>\n",
       "    </tr>\n",
       "    <tr>\n",
       "      <th>1</th>\n",
       "      <td>sham</td>\n",
       "      <td>sharma</td>\n",
       "      <td>25</td>\n",
       "      <td>sham@gmail.com</td>\n",
       "    </tr>\n",
       "    <tr>\n",
       "      <th>2</th>\n",
       "      <td>shubham</td>\n",
       "      <td>patne</td>\n",
       "      <td>27</td>\n",
       "      <td>shubham@gmail.com</td>\n",
       "    </tr>\n",
       "    <tr>\n",
       "      <th>3</th>\n",
       "      <td>John</td>\n",
       "      <td>Doe</td>\n",
       "      <td>44</td>\n",
       "      <td>john@gmail.com</td>\n",
       "    </tr>\n",
       "    <tr>\n",
       "      <th>4</th>\n",
       "      <td>MISSING</td>\n",
       "      <td>MISSING</td>\n",
       "      <td>MISSING</td>\n",
       "      <td>MISSING</td>\n",
       "    </tr>\n",
       "    <tr>\n",
       "      <th>5</th>\n",
       "      <td>MISSING</td>\n",
       "      <td>Potter</td>\n",
       "      <td>MISSING</td>\n",
       "      <td>MISSING</td>\n",
       "    </tr>\n",
       "    <tr>\n",
       "      <th>6</th>\n",
       "      <td>MISSING</td>\n",
       "      <td>MISSING</td>\n",
       "      <td>MISSING</td>\n",
       "      <td>Anoyamous@gmail.com</td>\n",
       "    </tr>\n",
       "  </tbody>\n",
       "</table>\n",
       "</div>"
      ],
      "text/plain": [
       "     first     last      age                email\n",
       "0      ram    patil       23        ram@gmail.com\n",
       "1     sham   sharma       25       sham@gmail.com\n",
       "2  shubham    patne       27    shubham@gmail.com\n",
       "3     John      Doe       44       john@gmail.com\n",
       "4  MISSING  MISSING  MISSING              MISSING\n",
       "5  MISSING   Potter  MISSING              MISSING\n",
       "6  MISSING  MISSING  MISSING  Anoyamous@gmail.com"
      ]
     },
     "execution_count": 136,
     "metadata": {},
     "output_type": "execute_result"
    }
   ],
   "source": [
    "# To fill NAN data\n",
    "df.fillna('MISSING')\n",
    "# df['age'].fillna('0')"
   ]
  },
  {
   "cell_type": "markdown",
   "id": "11293d81",
   "metadata": {},
   "source": [
    "# Typecasting\n"
   ]
  },
  {
   "cell_type": "code",
   "execution_count": 138,
   "id": "c068221c",
   "metadata": {},
   "outputs": [
    {
     "data": {
      "text/plain": [
       "first    object\n",
       "last     object\n",
       "age      object\n",
       "email    object\n",
       "dtype: object"
      ]
     },
     "execution_count": 138,
     "metadata": {},
     "output_type": "execute_result"
    }
   ],
   "source": [
    "df.dtypes"
   ]
  },
  {
   "cell_type": "code",
   "execution_count": 139,
   "id": "52e6e131",
   "metadata": {},
   "outputs": [
    {
     "data": {
      "text/plain": [
       "float"
      ]
     },
     "execution_count": 139,
     "metadata": {},
     "output_type": "execute_result"
    }
   ],
   "source": [
    "# Age is string we have to convert them to int or float\n",
    "# We have to convert them to float as np.nan is of type float\n",
    "# So if we try to convert into int it will throw error\n",
    "type(np.nan)"
   ]
  },
  {
   "cell_type": "code",
   "execution_count": 140,
   "id": "d52571f1",
   "metadata": {},
   "outputs": [],
   "source": [
    "df['age'] = df['age'].astype(float)"
   ]
  },
  {
   "cell_type": "code",
   "execution_count": 142,
   "id": "21c8f7a3",
   "metadata": {},
   "outputs": [
    {
     "data": {
      "text/plain": [
       "first     object\n",
       "last      object\n",
       "age      float64\n",
       "email     object\n",
       "dtype: object"
      ]
     },
     "execution_count": 142,
     "metadata": {},
     "output_type": "execute_result"
    }
   ],
   "source": [
    "df.dtypes"
   ]
  },
  {
   "cell_type": "code",
   "execution_count": 144,
   "id": "13c9c90b",
   "metadata": {},
   "outputs": [
    {
     "data": {
      "text/plain": [
       "count     4.000000\n",
       "mean     29.750000\n",
       "std       9.639329\n",
       "min      23.000000\n",
       "25%      24.500000\n",
       "50%      26.000000\n",
       "75%      31.250000\n",
       "max      44.000000\n",
       "Name: age, dtype: float64"
      ]
     },
     "execution_count": 144,
     "metadata": {},
     "output_type": "execute_result"
    }
   ],
   "source": [
    "df['age'].describe()"
   ]
  }
 ],
 "metadata": {
  "kernelspec": {
   "display_name": "Python 3",
   "language": "python",
   "name": "python3"
  },
  "language_info": {
   "codemirror_mode": {
    "name": "ipython",
    "version": 3
   },
   "file_extension": ".py",
   "mimetype": "text/x-python",
   "name": "python",
   "nbconvert_exporter": "python",
   "pygments_lexer": "ipython3",
   "version": "3.8.5"
  }
 },
 "nbformat": 4,
 "nbformat_minor": 5
}
